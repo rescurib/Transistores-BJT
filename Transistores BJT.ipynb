{
 "cells": [
  {
   "cell_type": "markdown",
   "metadata": {},
   "source": [
    "# Ejemplo de uso del módulo: Amplificador con BJT\n",
    "### Diseñe un amplificador con las siguientes características \n",
    "$I_E = 1 \\hspace{0.1cm} mA,\\quad V_{CC}=10 \\hspace{0.1cm} V, \\quad R_L = 1 \\hspace{0.1cm} k\\Omega, \\quad A_V = 10$"
   ]
  },
  {
   "cell_type": "code",
   "execution_count": 1,
   "metadata": {},
   "outputs": [],
   "source": [
    "import numpy as np\n",
    "import divisor as dv\n",
    "\n",
    "#Especificaciones \n",
    "IE = 1e-3\n",
    "re = 25e-3/IE\n",
    "RL = 1e3\n",
    "A = 10"
   ]
  },
  {
   "cell_type": "markdown",
   "metadata": {},
   "source": [
    "### Resistencia de colector"
   ]
  },
  {
   "cell_type": "code",
   "execution_count": 2,
   "metadata": {},
   "outputs": [
    {
     "name": "stdout",
     "output_type": "stream",
     "text": [
      "333.3333333333333\n"
     ]
    }
   ],
   "source": [
    "RC = RL/((RL/(A*re))-1)\n",
    "print(RC)"
   ]
  },
  {
   "cell_type": "code",
   "execution_count": 3,
   "metadata": {},
   "outputs": [
    {
     "name": "stdout",
     "output_type": "stream",
     "text": [
      "330.0\n"
     ]
    }
   ],
   "source": [
    "# Valor comercial más cercano\n",
    "RC = dv.closest(RC)\n",
    "print(RC)"
   ]
  },
  {
   "cell_type": "markdown",
   "metadata": {},
   "source": [
    "### Resistencia de emisor"
   ]
  },
  {
   "cell_type": "code",
   "execution_count": 4,
   "metadata": {},
   "outputs": [
    {
     "name": "stdout",
     "output_type": "stream",
     "text": [
      "1000.0\n"
     ]
    }
   ],
   "source": [
    "RE = 1/IE\n",
    "print(RE)"
   ]
  },
  {
   "cell_type": "markdown",
   "metadata": {},
   "source": [
    "### Divisor de voltaje"
   ]
  },
  {
   "cell_type": "code",
   "execution_count": 5,
   "metadata": {},
   "outputs": [
    {
     "name": "stdout",
     "output_type": "stream",
     "text": [
      "5858.823529411765\n"
     ]
    }
   ],
   "source": [
    "#Seleccionamos un valor estandar para R2:\n",
    "R2 = 1.2e3\n",
    "\n",
    "#Calculamos R1:\n",
    "kr = dv.k_r(10.0/1.7) # Vcc/Vout\n",
    "R1 = dv.R1_given_R2(R2,kr)\n",
    "print(R1)"
   ]
  },
  {
   "cell_type": "code",
   "execution_count": 6,
   "metadata": {},
   "outputs": [
    {
     "name": "stdout",
     "output_type": "stream",
     "text": [
      "5600.0\n"
     ]
    }
   ],
   "source": [
    "# Valor comercial más cercano\n",
    "R1 = dv.closest(R1)\n",
    "print(R1)"
   ]
  },
  {
   "cell_type": "markdown",
   "metadata": {},
   "source": [
    "### Valores de resistencias ($\\Omega$) :"
   ]
  },
  {
   "cell_type": "code",
   "execution_count": 7,
   "metadata": {},
   "outputs": [
    {
     "data": {
      "text/latex": [
       "$$R_1 = 5600.0 \\quad R_2 =1200.0 \\quad R_C=330.0 \\quad R_E=1000.0$$"
      ],
      "text/plain": [
       "<IPython.core.display.Math object>"
      ]
     },
     "metadata": {},
     "output_type": "display_data"
    }
   ],
   "source": [
    "from IPython.display import display, Math, Latex\n",
    "display(Math(r'R_1 = {} \\quad R_2 ={} \\quad R_C={} \\quad R_E={}'.format(R1,R2,RC,RE)))"
   ]
  },
  {
   "cell_type": "markdown",
   "metadata": {},
   "source": [
    "### Gráfica de datos de simulación con LTspice"
   ]
  },
  {
   "cell_type": "code",
   "execution_count": 9,
   "metadata": {},
   "outputs": [
    {
     "data": {
      "image/png": "[encoded data removed]",
      "text/plain": [
       "<Figure size 432x288 with 1 Axes>"
      ]
     },
     "metadata": {},
     "output_type": "display_data"
    }
   ],
   "source": [
    "import matplotlib.pyplot as plt\n",
    "import pandas as pd\n",
    "\n",
    "#Cargar datos de simulación\n",
    "df = pd.read_table('BJT_Amp.txt',sep='\\t')\n",
    "\n",
    "#Graficar\n",
    "plt.plot(1e6*df['time'],1e3*df['V(vout)'],label='Vout')\n",
    "plt.plot(1e6*df['time'],1e3*df['V(vin)'],label='Vin')\n",
    "plt.title(u'Simulación con vin = SINE(0 2m 10k)')\n",
    "plt.xlabel('$\\mu s$')\n",
    "plt.ylabel('$mV$')\n",
    "plt.legend()\n",
    "plt.grid(True)\n",
    "plt.show()"
   ]
  },
  {
   "cell_type": "code",
   "execution_count": null,
   "metadata": {},
   "outputs": [],
   "source": []
  }
 ],
 "metadata": {
  "kernelspec": {
   "display_name": "Python 3",
   "language": "python",
   "name": "python3"
  },
  "language_info": {
   "codemirror_mode": {
    "name": "ipython",
    "version": 3
   },
   "file_extension": ".py",
   "mimetype": "text/x-python",
   "name": "python",
   "nbconvert_exporter": "python",
   "pygments_lexer": "ipython3",
   "version": "3.6.4"
  }
 },
 "nbformat": 4,
 "nbformat_minor": 2
}
